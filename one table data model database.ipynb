{
 "cells": [
  {
   "cell_type": "markdown",
   "id": "a4498b0a",
   "metadata": {},
   "source": [
    "# A simple one table data model database.\n",
    "\n",
    "For this project i used python anaconda and postgres as the database for this project."
   ]
  },
  {
   "cell_type": "code",
   "execution_count": 2,
   "id": "b01c48d0",
   "metadata": {},
   "outputs": [],
   "source": [
    "import psycopg2 "
   ]
  },
  {
   "cell_type": "markdown",
   "id": "720a8625",
   "metadata": {},
   "source": [
    "# Create a connection to the database"
   ]
  },
  {
   "cell_type": "code",
   "execution_count": 4,
   "id": "67ea7101",
   "metadata": {},
   "outputs": [],
   "source": [
    "try:\n",
    "    conn = psycopg2.connect(\"host=*** dbname=*** user=*** password=***\")\n",
    "except psycopg2.Error as e:\n",
    "    print(\"Error: Could not make a connection to the Postgres database\")\n",
    "    print(e)"
   ]
  },
  {
   "cell_type": "markdown",
   "id": "6af8d388",
   "metadata": {},
   "source": [
    "# Use the connection to get a cursor that can be used to execute queries"
   ]
  },
  {
   "cell_type": "code",
   "execution_count": 5,
   "id": "fc141a5f",
   "metadata": {},
   "outputs": [],
   "source": [
    "try:\n",
    "    cur = conn.cursor()\n",
    "except psycopg2.Error as e:\n",
    "    print(\"Error: Could not get cursor to the database\")\n",
    "    print(e)"
   ]
  },
  {
   "cell_type": "markdown",
   "id": "a0caab76",
   "metadata": {},
   "source": [
    "# Set autocommit commit to be true so that each action is committedd without having to call conn.commit() after eaach command"
   ]
  },
  {
   "cell_type": "code",
   "execution_count": 6,
   "id": "ce4e3fa0",
   "metadata": {},
   "outputs": [],
   "source": [
    "conn.set_session(autocommit=True)"
   ]
  },
  {
   "cell_type": "markdown",
   "id": "16e5a0f6",
   "metadata": {},
   "source": [
    "# Create a database to work in"
   ]
  },
  {
   "cell_type": "code",
   "execution_count": 9,
   "id": "69e18712",
   "metadata": {},
   "outputs": [
    {
     "name": "stdout",
     "output_type": "stream",
     "text": [
      "database \"myfirstdb\" already exists\n",
      "\n"
     ]
    }
   ],
   "source": [
    "try:\n",
    "    cur.execute(\"Create database myfirstdb\")\n",
    "except psycopg2.Error as e:\n",
    "    print(e)"
   ]
  },
  {
   "cell_type": "markdown",
   "id": "8c1ff64a",
   "metadata": {},
   "source": [
    "# Close the default database connection, connect to myfirstdb and get a new cursor"
   ]
  },
  {
   "cell_type": "code",
   "execution_count": 10,
   "id": "f3e1cb17",
   "metadata": {},
   "outputs": [],
   "source": [
    "try:\n",
    "    conn =psycopg2.connect(\"host=127.0.0.1 dbname=postgres user=postgres password=POSTGRES99\")\n",
    "except psycopg2.Error as e:\n",
    "    print(e)\n",
    "    \n",
    "try:\n",
    "    conn = psycopg2.connect(\"host=127.0.0.1 dbname=myfirstdb user=postgres password=POSTGRES99\")\n",
    "except psycopg2.Error as e:\n",
    "    print(\"Error: Could not make a connection to the Postgres database\")\n",
    "    print(e)\n",
    "    \n",
    "try:\n",
    "    cur = conn.cursor()\n",
    "except psycopg2.Error as e:\n",
    "    print(\"Error: Could not get cursor to the database\")\n",
    "    print(e)\n",
    "    \n",
    "conn.set_session(autocommit=True)"
   ]
  },
  {
   "cell_type": "markdown",
   "id": "148691c4",
   "metadata": {},
   "source": [
    "# Create Table for students which includes below columns"
   ]
  },
  {
   "cell_type": "markdown",
   "id": "99e06551",
   "metadata": {},
   "source": [
    "student_id\n",
    "\n",
    "name\n",
    "\n",
    "age\n",
    "\n",
    "gender\n",
    "\n",
    "subject\n",
    "\n",
    "marks"
   ]
  },
  {
   "cell_type": "code",
   "execution_count": 11,
   "id": "bbf95e14",
   "metadata": {},
   "outputs": [],
   "source": [
    "try:\n",
    "    cur.execute(\"CREATE TABLE IF NOT EXISTS students(student_id int,name varchar,age int,gender varchar,subject varchar,marks int)\")\n",
    "except psycopg2.Error as e:\n",
    "    print(\"Error: Issue creating table\")\n",
    "    print(e)"
   ]
  },
  {
   "cell_type": "markdown",
   "id": "b3b9e6e6",
   "metadata": {},
   "source": [
    "# Insert data into the database"
   ]
  },
  {
   "cell_type": "markdown",
   "id": "602b41c0",
   "metadata": {},
   "source": [
    "First Row: 1, 'thon',21,'Python',85\n",
    "    \n",
    "Second Row: 2, 'twange',20,'Java',86"
   ]
  },
  {
   "cell_type": "code",
   "execution_count": 12,
   "id": "971124bb",
   "metadata": {},
   "outputs": [],
   "source": [
    "try:\n",
    "    cur.execute(\"INSERT INTO students(student_id,name,age,gender,subject,marks) Values(%s,%s,%s,%s,%s,%s)\",(1,\"thon\",21,\"male\",\"python\",85))\n",
    "except psycopg2.Error as e:\n",
    "    print(\"Error: Issue inserting row\")\n",
    "    print(e)\n",
    "    \n",
    "try:\n",
    "    cur.execute(\"INSERT INTO students(student_id,name,age,gender,subject,marks) Values(%s,%s,%s,%s,%s,%s)\",(2,\"sham\",20,\"male\",\"java\",86))\n",
    "except psycopg2.Error as e:\n",
    "    print(\"Error: Issue inserting row\")\n",
    "    print(e)"
   ]
  },
  {
   "cell_type": "markdown",
   "id": "b43f9cdf",
   "metadata": {},
   "source": [
    "# Validating data in the database"
   ]
  },
  {
   "cell_type": "code",
   "execution_count": 13,
   "id": "a688ddf1",
   "metadata": {},
   "outputs": [
    {
     "name": "stdout",
     "output_type": "stream",
     "text": [
      "(1, 'thon', 21, 'male', 'python', 85)\n",
      "(2, 'sham', 20, 'male', 'java', 86)\n"
     ]
    }
   ],
   "source": [
    "try:\n",
    "    cur.execute(\"SELECT * FROM students;\")\n",
    "except psycopg2.Error as e:\n",
    "    print(\"Error: Issue selecting\")\n",
    "    print(e)\n",
    "    \n",
    "row = cur.fetchone()\n",
    "while row:\n",
    "    print(row)\n",
    "    row =cur.fetchone()"
   ]
  },
  {
   "cell_type": "markdown",
   "id": "e180e3a4",
   "metadata": {},
   "source": [
    "# Finally close cursor and connection"
   ]
  },
  {
   "cell_type": "code",
   "execution_count": 14,
   "id": "33482600",
   "metadata": {},
   "outputs": [],
   "source": [
    "cur.close()\n",
    "conn.close()"
   ]
  },
  {
   "cell_type": "code",
   "execution_count": null,
   "id": "884e7986",
   "metadata": {},
   "outputs": [],
   "source": []
  }
 ],
 "metadata": {
  "kernelspec": {
   "display_name": "Python 3 (ipykernel)",
   "language": "python",
   "name": "python3"
  },
  "language_info": {
   "codemirror_mode": {
    "name": "ipython",
    "version": 3
   },
   "file_extension": ".py",
   "mimetype": "text/x-python",
   "name": "python",
   "nbconvert_exporter": "python",
   "pygments_lexer": "ipython3",
   "version": "3.9.12"
  }
 },
 "nbformat": 4,
 "nbformat_minor": 5
}
