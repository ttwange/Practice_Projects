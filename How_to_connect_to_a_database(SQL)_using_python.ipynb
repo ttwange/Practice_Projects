{
 "cells": [
  {
   "cell_type": "markdown",
   "id": "ff313fee",
   "metadata": {},
   "source": [
    "#### Install pyodbc"
   ]
  },
  {
   "cell_type": "code",
   "execution_count": 1,
   "id": "a8480e88",
   "metadata": {},
   "outputs": [
    {
     "name": "stdout",
     "output_type": "stream",
     "text": [
      "Requirement already satisfied: pyodbc in c:\\users\\user\\anaconda3\\lib\\site-packages (4.0.32)\n",
      "Requirement already satisfied: pypyodbc in c:\\users\\user\\anaconda3\\lib\\site-packages (1.3.6)\n",
      "Requirement already satisfied: setuptools in c:\\users\\user\\anaconda3\\lib\\site-packages (from pypyodbc) (61.2.0)\n"
     ]
    }
   ],
   "source": [
    "!pip install pyodbc\n",
    "!pip install pypyodbc \n"
   ]
  },
  {
   "cell_type": "markdown",
   "id": "e7e54f0c",
   "metadata": {},
   "source": [
    "#### Import libraries"
   ]
  },
  {
   "cell_type": "code",
   "execution_count": 2,
   "id": "14ffbfac",
   "metadata": {},
   "outputs": [],
   "source": [
    "import pandas as pd\n",
    "import pyodbc\n",
    "import pypyodbc as odbc\n"
   ]
  },
  {
   "cell_type": "markdown",
   "id": "990e5234",
   "metadata": {},
   "source": [
    "#### Database Details"
   ]
  },
  {
   "cell_type": "code",
   "execution_count": 3,
   "id": "1e7f65f8",
   "metadata": {},
   "outputs": [],
   "source": [
    "uid = '***'\n",
    "pwd = '***'\n",
    "driver = '***'\n",
    "server = '***'\n",
    "database = '***'"
   ]
  },
  {
   "cell_type": "code",
   "execution_count": 4,
   "id": "7ba3e337",
   "metadata": {},
   "outputs": [
    {
     "name": "stdout",
     "output_type": "stream",
     "text": [
      "<pypyodbc.Connection object at 0x00000178C49F1490>\n"
     ]
    }
   ],
   "source": [
    "cnxn = odbc.connect(\"Driver={driver};\"\n",
    "                        \"Server=server;\"\n",
    "                        \"Database=database;\"\n",
    "                       )\n",
    "print(cnxn)\n"
   ]
  },
  {
   "cell_type": "markdown",
   "id": "96b0ab28",
   "metadata": {},
   "source": [
    "#### Query the database"
   ]
  },
  {
   "cell_type": "code",
   "execution_count": 5,
   "id": "e05a85a0",
   "metadata": {},
   "outputs": [],
   "source": [
    "sql= \"SELECT * FROM [dbo].[DimCustomer]\""
   ]
  },
  {
   "cell_type": "code",
   "execution_count": 6,
   "id": "42114e45",
   "metadata": {},
   "outputs": [
    {
     "name": "stderr",
     "output_type": "stream",
     "text": [
      "C:\\Users\\User\\anaconda3\\lib\\site-packages\\pandas\\io\\sql.py:761: UserWarning: pandas only support SQLAlchemy connectable(engine/connection) ordatabase string URI or sqlite3 DBAPI2 connectionother DBAPI2 objects are not tested, please consider using SQLAlchemy\n",
      "  warnings.warn(\n"
     ]
    },
    {
     "data": {
      "text/html": [
       "<div>\n",
       "<style scoped>\n",
       "    .dataframe tbody tr th:only-of-type {\n",
       "        vertical-align: middle;\n",
       "    }\n",
       "\n",
       "    .dataframe tbody tr th {\n",
       "        vertical-align: top;\n",
       "    }\n",
       "\n",
       "    .dataframe thead th {\n",
       "        text-align: right;\n",
       "    }\n",
       "</style>\n",
       "<table border=\"1\" class=\"dataframe\">\n",
       "  <thead>\n",
       "    <tr style=\"text-align: right;\">\n",
       "      <th></th>\n",
       "      <th>customerkey</th>\n",
       "      <th>geographykey</th>\n",
       "      <th>customeralternatekey</th>\n",
       "      <th>title</th>\n",
       "      <th>firstname</th>\n",
       "      <th>middlename</th>\n",
       "      <th>lastname</th>\n",
       "      <th>namestyle</th>\n",
       "      <th>birthdate</th>\n",
       "      <th>maritalstatus</th>\n",
       "      <th>...</th>\n",
       "      <th>englishoccupation</th>\n",
       "      <th>spanishoccupation</th>\n",
       "      <th>frenchoccupation</th>\n",
       "      <th>houseownerflag</th>\n",
       "      <th>numbercarsowned</th>\n",
       "      <th>addressline1</th>\n",
       "      <th>addressline2</th>\n",
       "      <th>phone</th>\n",
       "      <th>datefirstpurchase</th>\n",
       "      <th>commutedistance</th>\n",
       "    </tr>\n",
       "  </thead>\n",
       "  <tbody>\n",
       "    <tr>\n",
       "      <th>18479</th>\n",
       "      <td>29479</td>\n",
       "      <td>209</td>\n",
       "      <td>AW00029479</td>\n",
       "      <td>None</td>\n",
       "      <td>Tommy</td>\n",
       "      <td>L</td>\n",
       "      <td>Tang</td>\n",
       "      <td>False</td>\n",
       "      <td>1969-06-30</td>\n",
       "      <td>M</td>\n",
       "      <td>...</td>\n",
       "      <td>Clerical</td>\n",
       "      <td>Administrativo</td>\n",
       "      <td>Employé</td>\n",
       "      <td>1</td>\n",
       "      <td>0</td>\n",
       "      <td>111, rue Maillard</td>\n",
       "      <td>None</td>\n",
       "      <td>1 (11) 500 555-0136</td>\n",
       "      <td>2012-09-04</td>\n",
       "      <td>0-1 Miles</td>\n",
       "    </tr>\n",
       "    <tr>\n",
       "      <th>18480</th>\n",
       "      <td>29480</td>\n",
       "      <td>248</td>\n",
       "      <td>AW00029480</td>\n",
       "      <td>None</td>\n",
       "      <td>Nina</td>\n",
       "      <td>W</td>\n",
       "      <td>Raji</td>\n",
       "      <td>False</td>\n",
       "      <td>1977-05-06</td>\n",
       "      <td>S</td>\n",
       "      <td>...</td>\n",
       "      <td>Clerical</td>\n",
       "      <td>Administrativo</td>\n",
       "      <td>Employé</td>\n",
       "      <td>1</td>\n",
       "      <td>0</td>\n",
       "      <td>9 Katherine Drive</td>\n",
       "      <td>None</td>\n",
       "      <td>1 (11) 500 555-0146</td>\n",
       "      <td>2013-07-17</td>\n",
       "      <td>0-1 Miles</td>\n",
       "    </tr>\n",
       "    <tr>\n",
       "      <th>18481</th>\n",
       "      <td>29481</td>\n",
       "      <td>120</td>\n",
       "      <td>AW00029481</td>\n",
       "      <td>None</td>\n",
       "      <td>Ivan</td>\n",
       "      <td>None</td>\n",
       "      <td>Suri</td>\n",
       "      <td>False</td>\n",
       "      <td>1965-07-04</td>\n",
       "      <td>S</td>\n",
       "      <td>...</td>\n",
       "      <td>Clerical</td>\n",
       "      <td>Administrativo</td>\n",
       "      <td>Employé</td>\n",
       "      <td>0</td>\n",
       "      <td>0</td>\n",
       "      <td>Knaackstr 4</td>\n",
       "      <td>None</td>\n",
       "      <td>1 (11) 500 555-0144</td>\n",
       "      <td>2011-08-13</td>\n",
       "      <td>0-1 Miles</td>\n",
       "    </tr>\n",
       "    <tr>\n",
       "      <th>18482</th>\n",
       "      <td>29482</td>\n",
       "      <td>179</td>\n",
       "      <td>AW00029482</td>\n",
       "      <td>None</td>\n",
       "      <td>Clayton</td>\n",
       "      <td>None</td>\n",
       "      <td>Zhang</td>\n",
       "      <td>False</td>\n",
       "      <td>1964-09-01</td>\n",
       "      <td>M</td>\n",
       "      <td>...</td>\n",
       "      <td>Clerical</td>\n",
       "      <td>Administrativo</td>\n",
       "      <td>Employé</td>\n",
       "      <td>1</td>\n",
       "      <td>0</td>\n",
       "      <td>1080, quai de Grenelle</td>\n",
       "      <td>None</td>\n",
       "      <td>1 (11) 500 555-0137</td>\n",
       "      <td>2012-09-18</td>\n",
       "      <td>0-1 Miles</td>\n",
       "    </tr>\n",
       "    <tr>\n",
       "      <th>18483</th>\n",
       "      <td>29483</td>\n",
       "      <td>217</td>\n",
       "      <td>AW00029483</td>\n",
       "      <td>None</td>\n",
       "      <td>Jésus</td>\n",
       "      <td>L</td>\n",
       "      <td>Navarro</td>\n",
       "      <td>False</td>\n",
       "      <td>1965-06-06</td>\n",
       "      <td>M</td>\n",
       "      <td>...</td>\n",
       "      <td>Clerical</td>\n",
       "      <td>Administrativo</td>\n",
       "      <td>Employé</td>\n",
       "      <td>1</td>\n",
       "      <td>0</td>\n",
       "      <td>244, rue de la Centenaire</td>\n",
       "      <td>None</td>\n",
       "      <td>1 (11) 500 555-0141</td>\n",
       "      <td>2012-09-09</td>\n",
       "      <td>0-1 Miles</td>\n",
       "    </tr>\n",
       "  </tbody>\n",
       "</table>\n",
       "<p>5 rows × 29 columns</p>\n",
       "</div>"
      ],
      "text/plain": [
       "       customerkey  geographykey customeralternatekey title firstname  \\\n",
       "18479        29479           209           AW00029479  None     Tommy   \n",
       "18480        29480           248           AW00029480  None      Nina   \n",
       "18481        29481           120           AW00029481  None      Ivan   \n",
       "18482        29482           179           AW00029482  None   Clayton   \n",
       "18483        29483           217           AW00029483  None     Jésus   \n",
       "\n",
       "      middlename lastname  namestyle   birthdate maritalstatus  ...  \\\n",
       "18479          L     Tang      False  1969-06-30             M  ...   \n",
       "18480          W     Raji      False  1977-05-06             S  ...   \n",
       "18481       None     Suri      False  1965-07-04             S  ...   \n",
       "18482       None    Zhang      False  1964-09-01             M  ...   \n",
       "18483          L  Navarro      False  1965-06-06             M  ...   \n",
       "\n",
       "      englishoccupation spanishoccupation frenchoccupation  houseownerflag  \\\n",
       "18479          Clerical    Administrativo          Employé               1   \n",
       "18480          Clerical    Administrativo          Employé               1   \n",
       "18481          Clerical    Administrativo          Employé               0   \n",
       "18482          Clerical    Administrativo          Employé               1   \n",
       "18483          Clerical    Administrativo          Employé               1   \n",
       "\n",
       "       numbercarsowned               addressline1 addressline2  \\\n",
       "18479                0          111, rue Maillard         None   \n",
       "18480                0          9 Katherine Drive         None   \n",
       "18481                0                Knaackstr 4         None   \n",
       "18482                0     1080, quai de Grenelle         None   \n",
       "18483                0  244, rue de la Centenaire         None   \n",
       "\n",
       "                     phone datefirstpurchase commutedistance  \n",
       "18479  1 (11) 500 555-0136        2012-09-04       0-1 Miles  \n",
       "18480  1 (11) 500 555-0146        2013-07-17       0-1 Miles  \n",
       "18481  1 (11) 500 555-0144        2011-08-13       0-1 Miles  \n",
       "18482  1 (11) 500 555-0137        2012-09-18       0-1 Miles  \n",
       "18483  1 (11) 500 555-0141        2012-09-09       0-1 Miles  \n",
       "\n",
       "[5 rows x 29 columns]"
      ]
     },
     "execution_count": 6,
     "metadata": {},
     "output_type": "execute_result"
    }
   ],
   "source": [
    "df = pd.read_sql_query(sql,cnxn)\n",
    "df.tail()"
   ]
  }
 ],
 "metadata": {
  "kernelspec": {
   "display_name": "Python 3 (ipykernel)",
   "language": "python",
   "name": "python3"
  },
  "language_info": {
   "codemirror_mode": {
    "name": "ipython",
    "version": 3
   },
   "file_extension": ".py",
   "mimetype": "text/x-python",
   "name": "python",
   "nbconvert_exporter": "python",
   "pygments_lexer": "ipython3",
   "version": "3.9.12"
  }
 },
 "nbformat": 4,
 "nbformat_minor": 5
}
